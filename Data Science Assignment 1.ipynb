{
 "cells": [
  {
   "cell_type": "markdown",
   "id": "2ee98825",
   "metadata": {},
   "source": [
    "##### Q1. Write a Python program to reverse a string without using any built-in string reversal functions."
   ]
  },
  {
   "cell_type": "code",
   "execution_count": 1,
   "id": "995f4b34",
   "metadata": {},
   "outputs": [
    {
     "name": "stdout",
     "output_type": "stream",
     "text": [
      "Enter a string: Hii my name is Suraj\n",
      "Reversed string: jaruS si eman ym iiH\n"
     ]
    }
   ],
   "source": [
    "def reverse_string(input_string):\n",
    "    reversed_string = input_string[::-1]\n",
    "    return reversed_string\n",
    "\n",
    "string = input(\"Enter a string: \")\n",
    "reversed_string = reverse_string(string)\n",
    "print(\"Reversed string:\", reversed_string)"
   ]
  },
  {
   "cell_type": "markdown",
   "id": "ca92c279",
   "metadata": {},
   "source": [
    "##### Q2. Implement a function to check if a given string is a palindrome"
   ]
  },
  {
   "cell_type": "code",
   "execution_count": 2,
   "id": "5800d09a",
   "metadata": {},
   "outputs": [
    {
     "name": "stdout",
     "output_type": "stream",
     "text": [
      "enter a string: civic\n",
      "The string is a palindrome.\n"
     ]
    }
   ],
   "source": [
    "def is_palindrome(input_string):\n",
    "    reversed_string = input_string[::-1]\n",
    "    return input_string == reversed_string\n",
    "\n",
    "input_string = input(\"enter a string: \")\n",
    "if is_palindrome(input_string):\n",
    "    print(\"The string is a palindrome.\")\n",
    "else:\n",
    "    print(\"The string is not a palindrome.\")"
   ]
  },
  {
   "cell_type": "markdown",
   "id": "fd7a8554",
   "metadata": {},
   "source": [
    "##### Q3. Write a program to find the largest element in a given list."
   ]
  },
  {
   "cell_type": "code",
   "execution_count": 3,
   "id": "378b50cc",
   "metadata": {},
   "outputs": [
    {
     "name": "stdout",
     "output_type": "stream",
     "text": [
      "The largest number is:  66\n"
     ]
    }
   ],
   "source": [
    "def find_largest_element(input_list):\n",
    "    if not input_list:\n",
    "        return None\n",
    "\n",
    "    largest = input_list[0]\n",
    "\n",
    "    for num in input_list:\n",
    "        if num > largest:\n",
    "            largest = num\n",
    "\n",
    "    return largest\n",
    "input_list = [11,22,33,44,55,66]\n",
    "print(\"The largest number is: \",find_largest_element(input_list))"
   ]
  },
  {
   "cell_type": "markdown",
   "id": "359f0096",
   "metadata": {},
   "source": [
    "##### Q4. Implement a function to count the occurrence of each element in a list."
   ]
  },
  {
   "cell_type": "code",
   "execution_count": 4,
   "id": "090db272",
   "metadata": {},
   "outputs": [
    {
     "name": "stdout",
     "output_type": "stream",
     "text": [
      "Occurrence count:  {4: 3, 2: 2, 8: 2, 6: 1}\n"
     ]
    }
   ],
   "source": [
    "from collections import Counter\n",
    "\n",
    "def count_occurrence(input_list):\n",
    "    occurrence_count = Counter(input_list)\n",
    "    return dict(occurrence_count)\n",
    "\n",
    "input_list = [4, 2, 8, 2, 4, 8, 4, 6]\n",
    "print(\"Occurrence count: \",count_occurrence(input_list))"
   ]
  },
  {
   "cell_type": "markdown",
   "id": "9c3a6e72",
   "metadata": {},
   "source": [
    "##### Q5. Write a Python program to find the second largest number in a list."
   ]
  },
  {
   "cell_type": "code",
   "execution_count": 5,
   "id": "ba6a23ab",
   "metadata": {},
   "outputs": [
    {
     "name": "stdout",
     "output_type": "stream",
     "text": [
      "Second Largest Number is: 92\n"
     ]
    }
   ],
   "source": [
    "def second_largest_number(input_list):\n",
    "    if len(input_list) < 2:\n",
    "        return None\n",
    "    \n",
    "    sorted_list = sorted(input_list, reverse = True)\n",
    "    return sorted_list[1]\n",
    "\n",
    "input_list = [11,12,47,65,38,96,58,92,52,85]\n",
    "print(f\"Second Largest Number is: {second_largest_number(input_list)}\")   "
   ]
  },
  {
   "cell_type": "markdown",
   "id": "4138f15a",
   "metadata": {},
   "source": [
    "##### Q6. Implement a function to remove duplicate elements from a list."
   ]
  },
  {
   "cell_type": "code",
   "execution_count": 6,
   "id": "dc6808e1",
   "metadata": {},
   "outputs": [
    {
     "name": "stdout",
     "output_type": "stream",
     "text": [
      "List with duplicates removed: [33, 2, 1, 5, 8, 9, 24]\n"
     ]
    }
   ],
   "source": [
    "def remove_duplicate(input_list):\n",
    "    if not input_list:\n",
    "        return None\n",
    "    \n",
    "    return list(set(input_list))\n",
    "\n",
    "input_list = [24,33,1,2,24,5,1,8,9,8]\n",
    "print(f\"List with duplicates removed: {remove_duplicate(input_list)}\")"
   ]
  },
  {
   "cell_type": "markdown",
   "id": "e9f2ea68",
   "metadata": {},
   "source": [
    "##### Q7. Write a program to calculate the factorial of a given number."
   ]
  },
  {
   "cell_type": "code",
   "execution_count": 7,
   "id": "75b6f71b",
   "metadata": {},
   "outputs": [
    {
     "name": "stdout",
     "output_type": "stream",
     "text": [
      "Enter a number: 5\n",
      "Factorial of 5 is: 120\n"
     ]
    }
   ],
   "source": [
    "import math\n",
    "\n",
    "def factorial(n):\n",
    "    if n < 0:\n",
    "        return None\n",
    "    \n",
    "    return math.factorial(n)\n",
    "\n",
    "number = int(input(\"Enter a number: \"))\n",
    "factorial_result = factorial(number)\n",
    "if factorial_result is not None:\n",
    "    print(\"Factorial of\", number, \"is:\", factorial_result)\n",
    "else:\n",
    "    print(\"Factorial is not defined for negative numbers.\")"
   ]
  },
  {
   "cell_type": "markdown",
   "id": "0dc4ad5d",
   "metadata": {},
   "source": [
    "##### Q8. Implement a function to check if a given number is prime."
   ]
  },
  {
   "cell_type": "code",
   "execution_count": 19,
   "id": "5530d6ce",
   "metadata": {},
   "outputs": [
    {
     "name": "stdout",
     "output_type": "stream",
     "text": [
      "Enter a no.: 97\n",
      "97 is a prime number\n"
     ]
    }
   ],
   "source": [
    "def is_prime(number):\n",
    "    if number <= 1:\n",
    "        return False\n",
    "    \n",
    "    for i in range(2,number):\n",
    "        if number % i == 0:\n",
    "            return False\n",
    "        \n",
    "    return True\n",
    "\n",
    "num = int(input(\"Enter a no.: \"))\n",
    "if is_prime(num):\n",
    "    print(num,\"is a prime number\")\n",
    "\n",
    "else:\n",
    "    print(num,\"is not a prime number\")"
   ]
  },
  {
   "cell_type": "markdown",
   "id": "9199373a",
   "metadata": {},
   "source": [
    "##### Q9. Write a Python program to sort a list of integers in ascending order."
   ]
  },
  {
   "cell_type": "code",
   "execution_count": 2,
   "id": "b406b8ae",
   "metadata": {},
   "outputs": [
    {
     "name": "stdout",
     "output_type": "stream",
     "text": [
      "[6, 8, 12, 18, 20, 32, 47, 55, 89, 95]\n"
     ]
    }
   ],
   "source": [
    "list = [8,6,18,32,47,89,95,55,20,12]\n",
    "sorted_list = sorted(list)\n",
    "print(sorted_list)"
   ]
  },
  {
   "cell_type": "markdown",
   "id": "64699aeb",
   "metadata": {},
   "source": [
    "##### Q10. Implement a function to find the sum of all numbers in a list."
   ]
  },
  {
   "cell_type": "code",
   "execution_count": 4,
   "id": "d87b749f",
   "metadata": {},
   "outputs": [
    {
     "name": "stdout",
     "output_type": "stream",
     "text": [
      "Total sum is: 29\n"
     ]
    }
   ],
   "source": [
    "def find_sum(input_list):\n",
    "    total = 0\n",
    "    for i in input_list:\n",
    "        total += i\n",
    "    return total\n",
    "\n",
    "numbers = [1,2,5,8,9,4]\n",
    "print(f\"Total sum is: {find_sum(numbers)}\")"
   ]
  },
  {
   "cell_type": "markdown",
   "id": "f3462c34",
   "metadata": {},
   "source": [
    "##### Q11. Write a program to find the common elements between two lists."
   ]
  },
  {
   "cell_type": "code",
   "execution_count": 1,
   "id": "bdf36932",
   "metadata": {},
   "outputs": [
    {
     "name": "stdout",
     "output_type": "stream",
     "text": [
      "Common elements: [2, 1, 6]\n"
     ]
    }
   ],
   "source": [
    "def find_common_elements(lst1, lst2):\n",
    "    common_elements = list(filter(lambda x: x in lst2, lst1))\n",
    "    return common_elements\n",
    "\n",
    "# Example usage\n",
    "list1 = [4, 2, 8, 1, 6]\n",
    "list2 = [1, 5, 6, 2, 9]\n",
    "common_elements = find_common_elements(list1, list2)\n",
    "print(\"Common elements:\", common_elements)\n"
   ]
  },
  {
   "cell_type": "markdown",
   "id": "7a1b247e",
   "metadata": {},
   "source": [
    "##### Q12. Implement a function to check if a given string is an anagram of another string."
   ]
  },
  {
   "cell_type": "code",
   "execution_count": 5,
   "id": "4cdc0d48",
   "metadata": {},
   "outputs": [
    {
     "name": "stdout",
     "output_type": "stream",
     "text": [
      "False\n"
     ]
    }
   ],
   "source": [
    "def is_anagram(string1,string2):\n",
    "    string1 = string1.lower().replace(\" \",\"\")\n",
    "    string2 = string2.lower().replace(\" \",\"\")\n",
    "    return sorted(string1) == sorted(string2)\n",
    "\n",
    "string1 = \"suraj\"\n",
    "string2 = \"mayur\"\n",
    "print(is_anagram(string1,string2))"
   ]
  },
  {
   "cell_type": "markdown",
   "id": "393493d7",
   "metadata": {},
   "source": [
    "##### Q13. Write a Python program to generate all permutations of a given string."
   ]
  },
  {
   "cell_type": "code",
   "execution_count": 11,
   "id": "ab8925fc",
   "metadata": {},
   "outputs": [
    {
     "name": "stdout",
     "output_type": "stream",
     "text": [
      "Permutations of abc: ['abc', 'acb', 'bac', 'bca', 'cab', 'cba']\n"
     ]
    }
   ],
   "source": [
    "from itertools import permutations\n",
    "\n",
    "def generate_permutations(string):\n",
    "    perms = [''.join(perm) for perm in permutations(string)]\n",
    "    return perms\n",
    "\n",
    "string = \"abc\"\n",
    "permutations = generate_permutations(string)\n",
    "print(f\"Permutations of {string}: {permutations}\")"
   ]
  },
  {
   "cell_type": "markdown",
   "id": "29ce4912",
   "metadata": {},
   "source": [
    "##### Q14 Implement a function to calculate the Fibonacci sequence up to a given number of terms."
   ]
  },
  {
   "cell_type": "code",
   "execution_count": 17,
   "id": "69d78a1b",
   "metadata": {},
   "outputs": [
    {
     "name": "stdout",
     "output_type": "stream",
     "text": [
      "Fibonacci sequence up to 8 terms: [0, 1, 1, 2, 3, 5, 8, 13]\n"
     ]
    }
   ],
   "source": [
    "def fibonacci(n):\n",
    "    sequence = [0, 1]\n",
    "    for i in range(2, n):\n",
    "        sequence.append(sequence[i-1] + sequence[i-2])\n",
    "    return sequence\n",
    "\n",
    "\n",
    "terms = 8\n",
    "fib_sequence = fibonacci(terms)\n",
    "print(f\"Fibonacci sequence up to {terms} terms: {fib_sequence}\")\n"
   ]
  },
  {
   "cell_type": "markdown",
   "id": "dae15722",
   "metadata": {},
   "source": [
    "##### Q15.Write a program to find the median of a list of numbers."
   ]
  },
  {
   "cell_type": "code",
   "execution_count": 16,
   "id": "8a1fd7d4",
   "metadata": {},
   "outputs": [
    {
     "name": "stdout",
     "output_type": "stream",
     "text": [
      "Median of the numbers: 4\n"
     ]
    }
   ],
   "source": [
    "def find_median(numbers):\n",
    "    sorted_numbers = sorted(numbers)\n",
    "    n = len(sorted_numbers)\n",
    "    if n % 2 == 0:\n",
    "        median = (sorted_numbers[n//2-1] + sorted_numbers[n//2]) / 2\n",
    "    else:\n",
    "        median = sorted_numbers[n//2]\n",
    "    return median\n",
    "\n",
    "\n",
    "number_list = [4, 2, 8, 1, 6]\n",
    "median = find_median(number_list)\n",
    "print(f\"Median of the numbers: {median}\")\n"
   ]
  },
  {
   "cell_type": "markdown",
   "id": "afbe27f4",
   "metadata": {},
   "source": [
    "##### Q16. Implement a function to check if a given list is sorted in non-decreasing order."
   ]
  },
  {
   "cell_type": "code",
   "execution_count": 15,
   "id": "91c32b72",
   "metadata": {},
   "outputs": [
    {
     "name": "stdout",
     "output_type": "stream",
     "text": [
      "The list is sorted in non-decreasing order.\n"
     ]
    }
   ],
   "source": [
    "def is_sorted(numbers):\n",
    "    return all(numbers[i] <= numbers[i+1] for i in range(len(numbers)-1))\n",
    "\n",
    "\n",
    "number_list = [1, 2, 4, 6, 8]\n",
    "if is_sorted(number_list):\n",
    "    print(\"The list is sorted in non-decreasing order.\")\n",
    "else:\n",
    "    print(\"The list is not sorted in non-decreasing order.\")\n"
   ]
  },
  {
   "cell_type": "markdown",
   "id": "059fdee2",
   "metadata": {},
   "source": [
    "##### Q17.Write a Python program to find the intersection of two lists."
   ]
  },
  {
   "cell_type": "code",
   "execution_count": 18,
   "id": "2112060e",
   "metadata": {},
   "outputs": [
    {
     "name": "stdout",
     "output_type": "stream",
     "text": [
      "Intersection of the lists: [2, 6]\n"
     ]
    }
   ],
   "source": [
    "def find_intersection(list1, list2):\n",
    "    intersection = list(set(list1) & set(list2))\n",
    "    return intersection\n",
    "\n",
    "\n",
    "list1 = [1, 2, 4, 6, 8]\n",
    "list2 = [2, 6, 10, 12]\n",
    "intersection = find_intersection(list1, list2)\n",
    "print(f\"Intersection of the lists: {intersection}\")"
   ]
  },
  {
   "cell_type": "markdown",
   "id": "bab797eb",
   "metadata": {},
   "source": [
    "##### Q18. Implement a function to find the maximum subarray sum in a given list."
   ]
  },
  {
   "cell_type": "code",
   "execution_count": 19,
   "id": "fcdb5d9e",
   "metadata": {},
   "outputs": [
    {
     "name": "stdout",
     "output_type": "stream",
     "text": [
      "Maximum subarray sum: 18\n"
     ]
    }
   ],
   "source": [
    "def find_max_subarray_sum(numbers):\n",
    "    max_sum = current_sum = numbers[0]\n",
    "    for num in numbers[1:]:\n",
    "        current_sum = max(num, current_sum + num)\n",
    "        max_sum = max(max_sum, current_sum)\n",
    "    return max_sum\n",
    "\n",
    "number_list = [2, -3, 5, -1, 6, 3, -2, 7, -5, 2]\n",
    "max_subarray_sum = find_max_subarray_sum(number_list)\n",
    "print(f\"Maximum subarray sum: {max_subarray_sum}\")"
   ]
  },
  {
   "cell_type": "markdown",
   "id": "e0b26a4d",
   "metadata": {},
   "source": [
    "##### Q19.Write a program to remove all vowels from a given string."
   ]
  },
  {
   "cell_type": "code",
   "execution_count": 21,
   "id": "ec330827",
   "metadata": {},
   "outputs": [
    {
     "name": "stdout",
     "output_type": "stream",
     "text": [
      "String with vowels removed: Hll, Wrld!\n"
     ]
    }
   ],
   "source": [
    "def remove_vowels(input_string):\n",
    "    vowels = 'aeiouAEIOU'\n",
    "    return ''.join(char for char in input_string if char not in vowels)\n",
    "\n",
    "string = \"Hello, World!\"\n",
    "result = remove_vowels(string)\n",
    "print(f\"String with vowels removed: {result}\")"
   ]
  },
  {
   "cell_type": "markdown",
   "id": "fc06daa4",
   "metadata": {},
   "source": [
    "##### Q20. Implement a function to reverse the order of words in a given sentence."
   ]
  },
  {
   "cell_type": "code",
   "execution_count": 22,
   "id": "523952f0",
   "metadata": {},
   "outputs": [
    {
     "name": "stdout",
     "output_type": "stream",
     "text": [
      "Reversed sentence: you? are how Hello,\n"
     ]
    }
   ],
   "source": [
    "def reverse_sentence(sentence):\n",
    "    words = sentence.split()\n",
    "    reversed_words = words[::-1]\n",
    "    reversed_sentence = ' '.join(reversed_words)\n",
    "    return reversed_sentence\n",
    "\n",
    "sentence = \"Hello, how are you?\"\n",
    "reversed_sentence = reverse_sentence(sentence)\n",
    "print(f\"Reversed sentence: {reversed_sentence}\")"
   ]
  },
  {
   "cell_type": "markdown",
   "id": "a3363454",
   "metadata": {},
   "source": [
    "##### Q21. Write a Python program to check if two strings are anagrams of each other."
   ]
  },
  {
   "cell_type": "code",
   "execution_count": 23,
   "id": "07c533f4",
   "metadata": {},
   "outputs": [
    {
     "name": "stdout",
     "output_type": "stream",
     "text": [
      "listen and silent are anagrams.\n"
     ]
    }
   ],
   "source": [
    "def are_anagrams(string1, string2):\n",
    "    return sorted(string1.lower()) == sorted(string2.lower())\n",
    "\n",
    "string1 = \"listen\"\n",
    "string2 = \"silent\"\n",
    "if are_anagrams(string1, string2):\n",
    "    print(f\"{string1} and {string2} are anagrams.\")\n",
    "else:\n",
    "    print(f\"{string1} and {string2} are not anagrams.\")\n"
   ]
  },
  {
   "cell_type": "markdown",
   "id": "822abd6c",
   "metadata": {},
   "source": [
    "##### Q22. Implement a function to find the first non-repeating character in a string."
   ]
  },
  {
   "cell_type": "code",
   "execution_count": 24,
   "id": "659373a9",
   "metadata": {},
   "outputs": [
    {
     "name": "stdout",
     "output_type": "stream",
     "text": [
      "First non-repeating character: e\n"
     ]
    }
   ],
   "source": [
    "def find_first_non_repeating_character(string):\n",
    "    character_count = {}\n",
    "    for char in string:\n",
    "        if char in character_count:\n",
    "            character_count[char] += 1\n",
    "        else:\n",
    "            character_count[char] = 1\n",
    "\n",
    "    for char in string:\n",
    "        if character_count[char] == 1:\n",
    "            return char\n",
    "\n",
    "    return None\n",
    "\n",
    "string = \"aabbcceffg\"\n",
    "first_non_repeating_char = find_first_non_repeating_character(string)\n",
    "if first_non_repeating_char is not None:\n",
    "    print(\"First non-repeating character:\", first_non_repeating_char)\n",
    "else:\n",
    "    print(\"All characters are repeating.\")"
   ]
  },
  {
   "cell_type": "markdown",
   "id": "154075aa",
   "metadata": {},
   "source": [
    "##### Q23 .Write a program to find the prime factors of a given number."
   ]
  },
  {
   "cell_type": "code",
   "execution_count": 25,
   "id": "44e0d466",
   "metadata": {},
   "outputs": [
    {
     "name": "stdout",
     "output_type": "stream",
     "text": [
      "Prime factors of 84: [2, 2, 3, 7]\n"
     ]
    }
   ],
   "source": [
    "def find_prime_factors(number):\n",
    "    prime_factors = []\n",
    "    divisor = 2\n",
    "\n",
    "    while divisor <= number:\n",
    "        if number % divisor == 0:\n",
    "            prime_factors.append(divisor)\n",
    "            number = number / divisor\n",
    "        else:\n",
    "            divisor += 1\n",
    "\n",
    "    return prime_factors\n",
    "\n",
    "number = 84\n",
    "prime_factors = find_prime_factors(number)\n",
    "print(f\"Prime factors of {number}: {prime_factors}\")"
   ]
  },
  {
   "cell_type": "markdown",
   "id": "982b9447",
   "metadata": {},
   "source": [
    "##### Q24. Implement a function to check if a given number is a power of two."
   ]
  },
  {
   "cell_type": "code",
   "execution_count": 26,
   "id": "f036dd85",
   "metadata": {},
   "outputs": [
    {
     "name": "stdout",
     "output_type": "stream",
     "text": [
      "16 is a power of two.\n"
     ]
    }
   ],
   "source": [
    "def is_power_of_two(number):\n",
    "    return number > 0 and (number & (number - 1)) == 0\n",
    "\n",
    "number = 16\n",
    "if is_power_of_two(number):\n",
    "    print(f\"{number} is a power of two.\")\n",
    "else:\n",
    "    print(f\"{number} is not a power of two.\")"
   ]
  },
  {
   "cell_type": "markdown",
   "id": "9079cdc6",
   "metadata": {},
   "source": [
    "##### Q25. Write a Python program to merge two sorted lists into a single sorted list."
   ]
  },
  {
   "cell_type": "code",
   "execution_count": 27,
   "id": "e720495c",
   "metadata": {},
   "outputs": [
    {
     "name": "stdout",
     "output_type": "stream",
     "text": [
      "Merged and sorted list: [1, 2, 3, 4, 5, 6]\n"
     ]
    }
   ],
   "source": [
    "def merge_sorted_lists(list1, list2):\n",
    "    merged_list = sorted(list1 + list2)\n",
    "    return merged_list\n",
    "\n",
    "list1 = [1, 4, 6]\n",
    "list2 = [2, 3, 5]\n",
    "merged_list = merge_sorted_lists(list1, list2)\n",
    "print(f\"Merged and sorted list: {merged_list}\")"
   ]
  },
  {
   "cell_type": "markdown",
   "id": "a84f93eb",
   "metadata": {},
   "source": [
    "##### Q26. Implement a function to find the mode of a list of numbers."
   ]
  },
  {
   "cell_type": "code",
   "execution_count": 28,
   "id": "a78b9291",
   "metadata": {},
   "outputs": [
    {
     "name": "stdout",
     "output_type": "stream",
     "text": [
      "Mode(s) of the numbers: [4]\n"
     ]
    }
   ],
   "source": [
    "from collections import Counter\n",
    "\n",
    "def find_mode(numbers):\n",
    "    counts = Counter(numbers)\n",
    "    max_count = max(counts.values())\n",
    "    modes = [num for num, count in counts.items() if count == max_count]\n",
    "    return modes\n",
    "\n",
    "number_list = [1, 2, 2, 3, 3, 3, 4, 4, 4, 4]\n",
    "mode_list = find_mode(number_list)\n",
    "print(f\"Mode(s) of the numbers: {mode_list}\")"
   ]
  },
  {
   "cell_type": "markdown",
   "id": "005abb18",
   "metadata": {},
   "source": [
    "##### Q27. Write a program to find the greatest common divisor (GCD) of two numbers."
   ]
  },
  {
   "cell_type": "code",
   "execution_count": 29,
   "id": "42fd2e6e",
   "metadata": {},
   "outputs": [
    {
     "name": "stdout",
     "output_type": "stream",
     "text": [
      "GCD of 36 and 48: 12\n"
     ]
    }
   ],
   "source": [
    "def find_gcd(a, b):\n",
    "    while b != 0:\n",
    "        a, b = b, a % b\n",
    "    return a\n",
    "\n",
    "num1 = 36\n",
    "num2 = 48\n",
    "gcd = find_gcd(num1, num2)\n",
    "print(f\"GCD of {num1} and {num2}: {gcd}\")"
   ]
  },
  {
   "cell_type": "markdown",
   "id": "5d965248",
   "metadata": {},
   "source": [
    "##### Q28. Implement a function to calculate the square root of a given number."
   ]
  },
  {
   "cell_type": "code",
   "execution_count": 30,
   "id": "9ceaae36",
   "metadata": {},
   "outputs": [
    {
     "name": "stdout",
     "output_type": "stream",
     "text": [
      "Square root of 25: 5.0\n"
     ]
    }
   ],
   "source": [
    "def calculate_square_root(number):\n",
    "    if number < 0:\n",
    "        return None\n",
    "    else:\n",
    "        return number ** 0.5\n",
    "\n",
    "number = 25\n",
    "square_root = calculate_square_root(number)\n",
    "if square_root is not None:\n",
    "    print(f\"Square root of {number}: {square_root}\")\n",
    "else:\n",
    "    print(\"Invalid input: Cannot calculate square root of a negative number.\")"
   ]
  },
  {
   "cell_type": "markdown",
   "id": "8bfaef46",
   "metadata": {},
   "source": [
    "##### Q29. Write a Python program to check if a given string is a valid palindrome ignoring non-alphanumeric charac"
   ]
  },
  {
   "cell_type": "code",
   "execution_count": 31,
   "id": "c5356c75",
   "metadata": {},
   "outputs": [
    {
     "name": "stdout",
     "output_type": "stream",
     "text": [
      "A man, a plan, a canal: Panama is a valid palindrome.\n"
     ]
    }
   ],
   "source": [
    "import re\n",
    "\n",
    "def is_valid_palindrome(string):\n",
    "    cleaned_string = re.sub(r'[^a-zA-Z0-9]', '', string.lower())\n",
    "    return cleaned_string == cleaned_string[::-1]\n",
    "\n",
    "string = \"A man, a plan, a canal: Panama\"\n",
    "if is_valid_palindrome(string):\n",
    "    print(f\"{string} is a valid palindrome.\")\n",
    "else:\n",
    "    print(f\"{string} is not a valid palindrome.\")"
   ]
  },
  {
   "cell_type": "markdown",
   "id": "c150bf08",
   "metadata": {},
   "source": [
    "##### Q30. Implement a function to find the minimum element in a rotated sorted list."
   ]
  },
  {
   "cell_type": "code",
   "execution_count": 32,
   "id": "4d18467b",
   "metadata": {},
   "outputs": [
    {
     "name": "stdout",
     "output_type": "stream",
     "text": [
      "Minimum element in the rotated sorted list: 0\n"
     ]
    }
   ],
   "source": [
    "def find_minimum_element_rotated(numbers):\n",
    "    low = 0\n",
    "    high = len(numbers) - 1\n",
    "\n",
    "    while low < high:\n",
    "        mid = (low + high) // 2\n",
    "\n",
    "        if numbers[mid] < numbers[high]:\n",
    "            high = mid\n",
    "        elif numbers[mid] > numbers[high]:\n",
    "            low = mid + 1\n",
    "        else:\n",
    "            high -= 1\n",
    "\n",
    "    return numbers[low]\n",
    "\n",
    "number_list = [4, 5, 6, 7, 0, 1, 2]\n",
    "minimum_element = find_minimum_element_rotated(number_list)\n",
    "print(f\"Minimum element in the rotated sorted list: {minimum_element}\")"
   ]
  },
  {
   "cell_type": "markdown",
   "id": "c53a5c3f",
   "metadata": {},
   "source": [
    "##### Q31. Write a program to find the sum of all even numbers in a list."
   ]
  },
  {
   "cell_type": "code",
   "execution_count": 33,
   "id": "eee49a7a",
   "metadata": {},
   "outputs": [
    {
     "name": "stdout",
     "output_type": "stream",
     "text": [
      "Sum of even numbers: 30\n"
     ]
    }
   ],
   "source": [
    "def sum_of_even_numbers(numbers):\n",
    "    even_sum = sum(num for num in numbers if num % 2 == 0)\n",
    "    return even_sum\n",
    "\n",
    "number_list = [1, 2, 3, 4, 5, 6, 7, 8, 9, 10]\n",
    "even_sum = sum_of_even_numbers(number_list)\n",
    "print(f\"Sum of even numbers: {even_sum}\")"
   ]
  },
  {
   "cell_type": "markdown",
   "id": "9364d1ae",
   "metadata": {},
   "source": [
    "##### Q32. Implement a function to calculate the power of a number using recursion."
   ]
  },
  {
   "cell_type": "code",
   "execution_count": 34,
   "id": "3f338f3a",
   "metadata": {},
   "outputs": [
    {
     "name": "stdout",
     "output_type": "stream",
     "text": [
      "2 raised to the power of 3: 8\n"
     ]
    }
   ],
   "source": [
    "def power(base, exponent):\n",
    "    if exponent == 0:\n",
    "        return 1\n",
    "    elif exponent > 0:\n",
    "        return base * power(base, exponent - 1)\n",
    "    else:\n",
    "        return 1 / (base * power(base, -exponent - 1))\n",
    "\n",
    "base = 2\n",
    "exponent = 3\n",
    "result = power(base, exponent)\n",
    "print(f\"{base} raised to the power of {exponent}: {result}\")"
   ]
  },
  {
   "cell_type": "markdown",
   "id": "e42d5c35",
   "metadata": {},
   "source": [
    "##### Q33. Write a Python program to remove duplicates from a list while preserving the order."
   ]
  },
  {
   "cell_type": "code",
   "execution_count": 35,
   "id": "da5de56f",
   "metadata": {},
   "outputs": [
    {
     "name": "stdout",
     "output_type": "stream",
     "text": [
      "List with duplicates removed while preserving order: [1, 2, 3, 4, 5, 6]\n"
     ]
    }
   ],
   "source": [
    "def remove_duplicates_preserve_order(input_list):\n",
    "    seen = set()\n",
    "    unique_list = [num for num in input_list if num not in seen and not seen.add(num)]\n",
    "    return unique_list\n",
    "\n",
    "number_list = [1, 2, 3, 2, 4, 3, 5, 4, 6]\n",
    "unique_list = remove_duplicates_preserve_order(number_list)\n",
    "print(f\"List with duplicates removed while preserving order: {unique_list}\")"
   ]
  },
  {
   "cell_type": "markdown",
   "id": "09c565e8",
   "metadata": {},
   "source": [
    "##### Q34. Implement a function to find the longest common prefix among a list of strings"
   ]
  },
  {
   "cell_type": "code",
   "execution_count": 36,
   "id": "74966649",
   "metadata": {},
   "outputs": [
    {
     "name": "stdout",
     "output_type": "stream",
     "text": [
      "Longest common prefix: fl\n"
     ]
    }
   ],
   "source": [
    "def find_longest_common_prefix(strings):\n",
    "    if not strings:\n",
    "        return \"\"\n",
    "\n",
    "    shortest_string = min(strings, key=len)\n",
    "\n",
    "    for i, char in enumerate(shortest_string):\n",
    "        for string in strings:\n",
    "            if string[i] != char:\n",
    "                return shortest_string[:i]\n",
    "\n",
    "    return shortest_string\n",
    "\n",
    "string_list = [\"flower\", \"flow\", \"flight\"]\n",
    "longest_common_prefix = find_longest_common_prefix(string_list)\n",
    "print(f\"Longest common prefix: {longest_common_prefix}\")"
   ]
  },
  {
   "cell_type": "markdown",
   "id": "0da6806f",
   "metadata": {},
   "source": [
    "##### Q35.  Write a program to check if a given number is a perfect square."
   ]
  },
  {
   "cell_type": "code",
   "execution_count": 37,
   "id": "fc46c54a",
   "metadata": {},
   "outputs": [
    {
     "name": "stdout",
     "output_type": "stream",
     "text": [
      "16 is a perfect square.\n"
     ]
    }
   ],
   "source": [
    "def is_perfect_square(number):\n",
    "    if number < 0:\n",
    "        return False\n",
    "\n",
    "    sqrt = int(number ** 0.5)\n",
    "    return sqrt * sqrt == number\n",
    "\n",
    "number = 16\n",
    "if is_perfect_square(number):\n",
    "    print(f\"{number} is a perfect square.\")\n",
    "else:\n",
    "    print(f\"{number} is not a perfect square.\")"
   ]
  },
  {
   "cell_type": "markdown",
   "id": "07e6088e",
   "metadata": {},
   "source": [
    "##### Q36. Implement a function to calculate the product of all elements in a list."
   ]
  },
  {
   "cell_type": "code",
   "execution_count": 38,
   "id": "8d6353a4",
   "metadata": {},
   "outputs": [
    {
     "name": "stdout",
     "output_type": "stream",
     "text": [
      "Product of elements: 120\n"
     ]
    }
   ],
   "source": [
    "from functools import reduce\n",
    "import operator\n",
    "\n",
    "def product_of_elements(numbers):\n",
    "    product = reduce(operator.mul, numbers, 1)\n",
    "    return product\n",
    "\n",
    "number_list = [1, 2, 3, 4, 5]\n",
    "product = product_of_elements(number_list)\n",
    "print(f\"Product of elements: {product}\")"
   ]
  },
  {
   "cell_type": "markdown",
   "id": "00d5a521",
   "metadata": {},
   "source": [
    "##### Q37. Write a Python program to reverse the order of words in a sentence while preserving the word order."
   ]
  },
  {
   "cell_type": "code",
   "execution_count": 39,
   "id": "6f3134e7",
   "metadata": {},
   "outputs": [
    {
     "name": "stdout",
     "output_type": "stream",
     "text": [
      "Reversed sentence while preserving word order: you? are how Hello,\n"
     ]
    }
   ],
   "source": [
    "def reverse_sentence_preserve_order(sentence):\n",
    "    words = sentence.split()\n",
    "    reversed_sentence = ' '.join(words[::-1])\n",
    "    return reversed_sentence\n",
    "\n",
    "sentence = \"Hello, how are you?\"\n",
    "reversed_sentence = reverse_sentence_preserve_order(sentence)\n",
    "print(f\"Reversed sentence while preserving word order: {reversed_sentence}\")"
   ]
  },
  {
   "cell_type": "markdown",
   "id": "3e58fd3a",
   "metadata": {},
   "source": [
    "##### Q38. Implement a function to find the missing number in a given list of consecutive numbers."
   ]
  },
  {
   "cell_type": "code",
   "execution_count": 40,
   "id": "6ab1c697",
   "metadata": {},
   "outputs": [
    {
     "name": "stdout",
     "output_type": "stream",
     "text": [
      "Missing number: 4\n"
     ]
    }
   ],
   "source": [
    "def find_missing_number(numbers):\n",
    "    n = len(numbers) + 1\n",
    "    total_sum = (n * (n + 1)) // 2\n",
    "    actual_sum = sum(numbers)\n",
    "    missing_number = total_sum - actual_sum\n",
    "    return missing_number\n",
    "\n",
    "number_list = [1, 2, 3, 5, 6, 7, 8, 9, 10]\n",
    "missing_number = find_missing_number(number_list)\n",
    "print(f\"Missing number: {missing_number}\")"
   ]
  },
  {
   "cell_type": "markdown",
   "id": "a1c8daea",
   "metadata": {},
   "source": [
    "##### Q39. Write a program to find the sum of digits of a given number."
   ]
  },
  {
   "cell_type": "code",
   "execution_count": 41,
   "id": "f45fefe2",
   "metadata": {},
   "outputs": [
    {
     "name": "stdout",
     "output_type": "stream",
     "text": [
      "Sum of digits of 12345: 15\n"
     ]
    }
   ],
   "source": [
    "def sum_of_digits(number):\n",
    "    total_sum = sum(int(digit) for digit in str(number) if digit.isdigit())\n",
    "    return total_sum\n",
    "\n",
    "number = 12345\n",
    "digit_sum = sum_of_digits(number)\n",
    "print(f\"Sum of digits of {number}: {digit_sum}\")"
   ]
  },
  {
   "cell_type": "markdown",
   "id": "cc631ee6",
   "metadata": {},
   "source": [
    "##### Q40. Implement a function to check if a given string is a valid palindrome considering case sensitivity."
   ]
  },
  {
   "cell_type": "code",
   "execution_count": 43,
   "id": "1456906d",
   "metadata": {},
   "outputs": [
    {
     "name": "stdout",
     "output_type": "stream",
     "text": [
      "Akash is not a valid palindrome (case-sensitive).\n"
     ]
    }
   ],
   "source": [
    "def is_valid_palindrome_case_sensitive(string):\n",
    "    return string == string[::-1]\n",
    "\n",
    "string = \"Akash\"\n",
    "if is_valid_palindrome_case_sensitive(string):\n",
    "    print(f\"{string} is a valid palindrome (case-sensitive).\")\n",
    "else:\n",
    "    print(f\"{string} is not a valid palindrome (case-sensitive).\")"
   ]
  },
  {
   "cell_type": "markdown",
   "id": "20f836ad",
   "metadata": {},
   "source": [
    "##### Q41. Write a Python program to find the smallest missing positive integer in a list"
   ]
  },
  {
   "cell_type": "code",
   "execution_count": 44,
   "id": "5be90191",
   "metadata": {},
   "outputs": [
    {
     "name": "stdout",
     "output_type": "stream",
     "text": [
      "Smallest missing positive integer: 6\n"
     ]
    }
   ],
   "source": [
    "def find_smallest_missing_positive(numbers):\n",
    "    positive_numbers = set(num for num in numbers if num > 0)\n",
    "    smallest_missing = 1\n",
    "\n",
    "    while smallest_missing in positive_numbers:\n",
    "        smallest_missing += 1\n",
    "\n",
    "    return smallest_missing\n",
    "\n",
    "number_list = [3, 1, -1, 5, 2, 4]\n",
    "smallest_missing = find_smallest_missing_positive(number_list)\n",
    "print(f\"Smallest missing positive integer: {smallest_missing}\")"
   ]
  },
  {
   "cell_type": "markdown",
   "id": "0d2d1ae8",
   "metadata": {},
   "source": [
    "##### Q42. Implement a function to find the longest palindrome substring in a given string."
   ]
  },
  {
   "cell_type": "code",
   "execution_count": 45,
   "id": "797f6c59",
   "metadata": {},
   "outputs": [
    {
     "name": "stdout",
     "output_type": "stream",
     "text": [
      "Longest palindrome substring: bab\n"
     ]
    }
   ],
   "source": [
    "def find_longest_palindrome_substring(string):\n",
    "    longest_palindrome = \"\"\n",
    "\n",
    "    for i in range(len(string)):\n",
    "        for j in range(i, len(string)):\n",
    "            substring = string[i:j+1]\n",
    "            if substring == substring[::-1] and len(substring) > len(longest_palindrome):\n",
    "                longest_palindrome = substring\n",
    "\n",
    "    return longest_palindrome\n",
    "\n",
    "string = \"babad\"\n",
    "longest_palindrome = find_longest_palindrome_substring(string)\n",
    "print(f\"Longest palindrome substring: {longest_palindrome}\")"
   ]
  },
  {
   "cell_type": "markdown",
   "id": "f9c6070c",
   "metadata": {},
   "source": [
    "##### Q43. Write a program to find the number of occurrences of a given element in a list."
   ]
  },
  {
   "cell_type": "code",
   "execution_count": 46,
   "id": "14dc06c7",
   "metadata": {},
   "outputs": [
    {
     "name": "stdout",
     "output_type": "stream",
     "text": [
      "Number of occurrences of 2: 4\n"
     ]
    }
   ],
   "source": [
    "def count_occurrences(numbers, element):\n",
    "    count = sum(1 for num in numbers if num == element)\n",
    "    return count\n",
    "\n",
    "number_list = [1, 2, 3, 2, 4, 2, 5, 2]\n",
    "element = 2\n",
    "occurrence_count = count_occurrences(number_list, element)\n",
    "print(f\"Number of occurrences of {element}: {occurrence_count}\")"
   ]
  },
  {
   "cell_type": "markdown",
   "id": "3ec18997",
   "metadata": {},
   "source": [
    "##### Q44. Implement a function to check if a given number is a perfect number."
   ]
  },
  {
   "cell_type": "code",
   "execution_count": 47,
   "id": "a96d6542",
   "metadata": {},
   "outputs": [
    {
     "name": "stdout",
     "output_type": "stream",
     "text": [
      "28 is a perfect number.\n"
     ]
    }
   ],
   "source": [
    "def is_perfect_number(number):\n",
    "    divisors = [i for i in range(1, number) if number % i == 0]\n",
    "    return sum(divisors) == number\n",
    "\n",
    "number = 28\n",
    "if is_perfect_number(number):\n",
    "    print(f\"{number} is a perfect number.\")\n",
    "else:\n",
    "    print(f\"{number} is not a perfect number.\")"
   ]
  },
  {
   "cell_type": "markdown",
   "id": "9204316b",
   "metadata": {},
   "source": [
    "##### Q45. Write a Python program to remove all duplicates from a string."
   ]
  },
  {
   "cell_type": "code",
   "execution_count": 48,
   "id": "c0427387",
   "metadata": {},
   "outputs": [
    {
     "name": "stdout",
     "output_type": "stream",
     "text": [
      "String with duplicates removed: adecfb\n"
     ]
    }
   ],
   "source": [
    "def remove_duplicates_from_string(string):\n",
    "    unique_chars = \"\".join(set(string))\n",
    "    return unique_chars\n",
    "\n",
    "string = \"abbcdeeff\"\n",
    "unique_string = remove_duplicates_from_string(string)\n",
    "print(f\"String with duplicates removed: {unique_string}\")"
   ]
  },
  {
   "cell_type": "markdown",
   "id": "2a4c26fd",
   "metadata": {},
   "source": [
    "##### Q46. Implement a function to find the first missing positive"
   ]
  },
  {
   "cell_type": "code",
   "execution_count": 49,
   "id": "9825e84a",
   "metadata": {},
   "outputs": [
    {
     "name": "stdout",
     "output_type": "stream",
     "text": [
      "First missing positive: 2\n"
     ]
    }
   ],
   "source": [
    "def find_first_missing_positive(numbers):\n",
    "    if not numbers:\n",
    "        return 1\n",
    "\n",
    "    n = len(numbers)\n",
    "    for i in range(1, n + 1):\n",
    "        if i not in numbers:\n",
    "            return i\n",
    "\n",
    "    return n + 1\n",
    "\n",
    "number_list = [3, 4, -1, 1]\n",
    "missing_positive = find_first_missing_positive(number_list)\n",
    "print(f\"First missing positive: {missing_positive}\")"
   ]
  }
 ],
 "metadata": {
  "kernelspec": {
   "display_name": "Python 3 (ipykernel)",
   "language": "python",
   "name": "python3"
  },
  "language_info": {
   "codemirror_mode": {
    "name": "ipython",
    "version": 3
   },
   "file_extension": ".py",
   "mimetype": "text/x-python",
   "name": "python",
   "nbconvert_exporter": "python",
   "pygments_lexer": "ipython3",
   "version": "3.9.16"
  }
 },
 "nbformat": 4,
 "nbformat_minor": 5
}
