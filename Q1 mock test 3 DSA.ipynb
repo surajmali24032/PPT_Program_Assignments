{
 "cells": [
  {
   "cell_type": "markdown",
   "id": "dcaa96ba",
   "metadata": {},
   "source": [
    "#### Q1. Implement a stack using a list in Python. Include the necessary methods such as push, pop, and is Empty."
   ]
  },
  {
   "cell_type": "code",
   "execution_count": 1,
   "id": "b0783776",
   "metadata": {},
   "outputs": [
    {
     "name": "stdout",
     "output_type": "stream",
     "text": [
      "3\n",
      "2\n",
      "False\n",
      "1\n",
      "True\n"
     ]
    }
   ],
   "source": [
    "class Stack:\n",
    "    def __init__(self):\n",
    "        self.stack = []\n",
    "\n",
    "    def push(self, item):\n",
    "        self.stack.append(item)\n",
    "\n",
    "    def pop(self):\n",
    "        if self.is_empty():\n",
    "            return \"Stack is empty\"\n",
    "        return self.stack.pop()\n",
    "\n",
    "    def is_empty(self):\n",
    "        return len(self.stack) == 0\n",
    "\n",
    "stack = Stack()\n",
    "\n",
    "stack.push(1)\n",
    "stack.push(2)\n",
    "stack.push(3)\n",
    "\n",
    "print(stack.pop())\n",
    "print(stack.pop())\n",
    "print(stack.is_empty())\n",
    "print(stack.pop())\n",
    "print(stack.is_empty())"
   ]
  }
 ],
 "metadata": {
  "kernelspec": {
   "display_name": "Python 3 (ipykernel)",
   "language": "python",
   "name": "python3"
  },
  "language_info": {
   "codemirror_mode": {
    "name": "ipython",
    "version": 3
   },
   "file_extension": ".py",
   "mimetype": "text/x-python",
   "name": "python",
   "nbconvert_exporter": "python",
   "pygments_lexer": "ipython3",
   "version": "3.9.16"
  }
 },
 "nbformat": 4,
 "nbformat_minor": 5
}
